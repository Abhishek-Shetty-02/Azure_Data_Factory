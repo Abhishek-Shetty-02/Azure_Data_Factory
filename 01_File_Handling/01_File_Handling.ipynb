{
 "cells": [
  {
   "cell_type": "markdown",
   "id": "c552248f-4ce2-4649-ba5d-4b0e2f005d2f",
   "metadata": {},
   "source": [
    "# DAY 02 ADF Class 02"
   ]
  },
  {
   "cell_type": "markdown",
   "id": "f580f0e3-1b74-4c58-9595-9ad189fa8a92",
   "metadata": {},
   "source": [
    "# Different Source files/ File formats"
   ]
  },
  {
   "cell_type": "markdown",
   "id": "b4b617d3-c9d3-42fe-8200-ec9f7e6b28f3",
   "metadata": {},
   "source": [
    "# CSV"
   ]
  },
  {
   "cell_type": "code",
   "execution_count": null,
   "id": "fdbed169-1d87-448a-82dd-c80983dfd5a3",
   "metadata": {},
   "outputs": [],
   "source": [
    "# csv\n",
    "# Inventory,promotions\n",
    "\n",
    "# Reading\n",
    "\n",
    "# Full Loading: here Entire data will be loaded into the memory\n",
    "\n",
    "# read_csv : pandas\n",
    "# csv library: import csv with opencv\n",
    "# np.getfromtext(\"data.csv\",delimiter=',')\n",
    "\n",
    "# Lazy Loading/Execution: during computation, Data will be loaded into the memory\n",
    "\n",
    "# pl.read_csv : polars"
   ]
  },
  {
   "cell_type": "markdown",
   "id": "435755c6-7c35-4856-b36b-f0b2d70b792e",
   "metadata": {},
   "source": [
    "# tsv"
   ]
  },
  {
   "cell_type": "code",
   "execution_count": null,
   "id": "f90467d1-aeb2-4d70-9292-aba9743fbcd5",
   "metadata": {},
   "outputs": [],
   "source": [
    "# tsv\n",
    "\n",
    "# read_csv(data.csv,sep='\\t') : pandas\n",
    "# csv library: import csv with opencv\n",
    "# np.getfromtext(\"data.csv\",delimiter='\\t')\n",
    "\n",
    "\n",
    "# pl.read_csv : polars"
   ]
  },
  {
   "cell_type": "markdown",
   "id": "e3c283d2-c5f8-49c0-b54a-4010219d511b",
   "metadata": {},
   "source": [
    "# json"
   ]
  },
  {
   "cell_type": "code",
   "execution_count": null,
   "id": "e0853b79-1532-42c8-8540-7282f07657bc",
   "metadata": {},
   "outputs": [],
   "source": [
    "# json\n",
    "# Real-time logging, Sensors data, IOT devices\n",
    "\n",
    "# API Response: Json format\n",
    "\n",
    "# import json : package\n",
    "# pd.read_json : Pandas\n",
    "# json_normalize(): Nested structures\n",
    "# ujson: package: fast : C based implementation\n",
    "# rapidjson\n",
    "# dataschemas : marshmallow"
   ]
  },
  {
   "cell_type": "code",
   "execution_count": null,
   "id": "73972842-aa09-4141-82eb-224ef540b413",
   "metadata": {},
   "outputs": [],
   "source": [
    "### unstructured\n",
    "\n",
    "# pdf : In finances, Invoices will be in pdf formats\n",
    "\n",
    "# Read the pdf and exract the text\n",
    "\n",
    "# pypdf2 library\n",
    "# pdfminer library\n",
    "# tika\n",
    "\n",
    "\n",
    "# docx\n",
    "\n",
    "# docx library\n",
    "\n",
    "\n",
    "# images\n",
    "\n",
    "# tesseract \n",
    "\n",
    "# audiofiles\n",
    "\n",
    "# pyaudio\n",
    "# GTTS"
   ]
  },
  {
   "cell_type": "markdown",
   "id": "92bb1102-90fd-4e3a-bbe2-9f22679998b0",
   "metadata": {},
   "source": [
    "# Big data formats"
   ]
  },
  {
   "cell_type": "code",
   "execution_count": 25,
   "id": "747c4572-911f-49a4-90a3-31f1f7d5f2e7",
   "metadata": {},
   "outputs": [],
   "source": [
    "data = [\n",
    "    {\"id\": 1, \"name\": \"ML LABS\"},\n",
    "    {\"id\": 2, \"name\": \"Abhishek Shetty\"},\n",
    "    {\"id\": 3, \"name\": \"Awaiz Khan Pathan\"},\n",
    "    {\"id\": 4, \"name\": \"Chaitanya Kengar\"},\n",
    "    {\"id\": 5, \"name\": \"Dilli Babu N\"},\n",
    "    {\"id\": 6, \"name\": \"Dinesh Kumar\"},\n",
    "    {\"id\": 7, \"name\": \"Haritha Reddy\"},\n",
    "    {\"id\": 8, \"name\": \"K Jhansi\"},\n",
    "    {\"id\": 9, \"name\": \"Laki Mohanty\"},\n",
    "]\n"
   ]
  },
  {
   "cell_type": "code",
   "execution_count": 29,
   "id": "75502e13-dabd-4c43-b8bc-d70b058c0aa7",
   "metadata": {},
   "outputs": [
    {
     "data": {
      "text/html": [
       "<div>\n",
       "<style scoped>\n",
       "    .dataframe tbody tr th:only-of-type {\n",
       "        vertical-align: middle;\n",
       "    }\n",
       "\n",
       "    .dataframe tbody tr th {\n",
       "        vertical-align: top;\n",
       "    }\n",
       "\n",
       "    .dataframe thead th {\n",
       "        text-align: right;\n",
       "    }\n",
       "</style>\n",
       "<table border=\"1\" class=\"dataframe\">\n",
       "  <thead>\n",
       "    <tr style=\"text-align: right;\">\n",
       "      <th></th>\n",
       "      <th>id</th>\n",
       "      <th>name</th>\n",
       "    </tr>\n",
       "  </thead>\n",
       "  <tbody>\n",
       "    <tr>\n",
       "      <th>0</th>\n",
       "      <td>1</td>\n",
       "      <td>ML LABS</td>\n",
       "    </tr>\n",
       "    <tr>\n",
       "      <th>1</th>\n",
       "      <td>2</td>\n",
       "      <td>Abhishek Shetty</td>\n",
       "    </tr>\n",
       "    <tr>\n",
       "      <th>2</th>\n",
       "      <td>3</td>\n",
       "      <td>Awaiz Khan Pathan</td>\n",
       "    </tr>\n",
       "    <tr>\n",
       "      <th>3</th>\n",
       "      <td>4</td>\n",
       "      <td>Chaitanya Kengar</td>\n",
       "    </tr>\n",
       "    <tr>\n",
       "      <th>4</th>\n",
       "      <td>5</td>\n",
       "      <td>Dilli Babu N</td>\n",
       "    </tr>\n",
       "    <tr>\n",
       "      <th>5</th>\n",
       "      <td>6</td>\n",
       "      <td>Dinesh Kumar</td>\n",
       "    </tr>\n",
       "    <tr>\n",
       "      <th>6</th>\n",
       "      <td>7</td>\n",
       "      <td>Haritha Reddy</td>\n",
       "    </tr>\n",
       "    <tr>\n",
       "      <th>7</th>\n",
       "      <td>8</td>\n",
       "      <td>K Jhansi</td>\n",
       "    </tr>\n",
       "    <tr>\n",
       "      <th>8</th>\n",
       "      <td>9</td>\n",
       "      <td>Laki Mohanty</td>\n",
       "    </tr>\n",
       "  </tbody>\n",
       "</table>\n",
       "</div>"
      ],
      "text/plain": [
       "   id               name\n",
       "0   1            ML LABS\n",
       "1   2    Abhishek Shetty\n",
       "2   3  Awaiz Khan Pathan\n",
       "3   4   Chaitanya Kengar\n",
       "4   5       Dilli Babu N\n",
       "5   6       Dinesh Kumar\n",
       "6   7      Haritha Reddy\n",
       "7   8           K Jhansi\n",
       "8   9       Laki Mohanty"
      ]
     },
     "execution_count": 29,
     "metadata": {},
     "output_type": "execute_result"
    }
   ],
   "source": [
    "import pandas as pd\n",
    "df=pd.DataFrame(data)\n",
    "df"
   ]
  },
  {
   "cell_type": "markdown",
   "id": "16268e8d-3d0f-4965-90f0-299dc13a2210",
   "metadata": {},
   "source": [
    "Converting into CSV"
   ]
  },
  {
   "cell_type": "code",
   "execution_count": 33,
   "id": "d9d7e7d8-93f5-4ee8-8a86-c6e1b6d6a468",
   "metadata": {},
   "outputs": [],
   "source": [
    "df.to_csv(\"sample.csv\")"
   ]
  },
  {
   "cell_type": "markdown",
   "id": "b37761ba-ded8-4d05-8174-61dc00709b43",
   "metadata": {},
   "source": [
    "Converting into JSON"
   ]
  },
  {
   "cell_type": "code",
   "execution_count": 39,
   "id": "90372995-e6e2-4d04-ab41-dece3b01a487",
   "metadata": {},
   "outputs": [],
   "source": [
    "import json\n",
    "with open(\"Student data.json\",\"w\") as f:\n",
    "    json.dump(data,f)"
   ]
  },
  {
   "cell_type": "markdown",
   "id": "26f7a71a-b391-4154-8c8a-9e93126367ec",
   "metadata": {},
   "source": [
    "# Parquet Format\n",
    "Use case: bronze and silver layer whenever data not using for any visualization, analysis."
   ]
  },
  {
   "cell_type": "code",
   "execution_count": null,
   "id": "82673b55-0751-4b7b-954d-48a56b45395d",
   "metadata": {},
   "outputs": [],
   "source": [
    "# Columanar \n",
    "# compression alg: snappy"
   ]
  },
  {
   "cell_type": "code",
   "execution_count": 45,
   "id": "91fad73d-32d1-4a3f-a4f6-a5f0317ca135",
   "metadata": {},
   "outputs": [],
   "source": [
    "import numpy as np\n",
    "import pandas as pd\n",
    "import sys"
   ]
  },
  {
   "cell_type": "code",
   "execution_count": 83,
   "id": "289395ab-caad-4b87-b752-682709c3f039",
   "metadata": {},
   "outputs": [],
   "source": [
    "data={\n",
    "    \"id\":range(10000),\n",
    "    \"name\": [\"name\" + str(i) for i in range(1,10001)],\n",
    "    \"age\": np.random.randint(10,50,size=10000),\n",
    "    \"city\": np.random.choice([\"Bangalore\",\"Chennai\",\"Hyderabad\",\"New delhi\",\"Mumbai\"],size=10000)\n",
    "}"
   ]
  },
  {
   "cell_type": "code",
   "execution_count": 85,
   "id": "859eb77f-90db-474c-9621-3a42baf5c9cb",
   "metadata": {},
   "outputs": [
    {
     "data": {
      "text/html": [
       "<div>\n",
       "<style scoped>\n",
       "    .dataframe tbody tr th:only-of-type {\n",
       "        vertical-align: middle;\n",
       "    }\n",
       "\n",
       "    .dataframe tbody tr th {\n",
       "        vertical-align: top;\n",
       "    }\n",
       "\n",
       "    .dataframe thead th {\n",
       "        text-align: right;\n",
       "    }\n",
       "</style>\n",
       "<table border=\"1\" class=\"dataframe\">\n",
       "  <thead>\n",
       "    <tr style=\"text-align: right;\">\n",
       "      <th></th>\n",
       "      <th>id</th>\n",
       "      <th>name</th>\n",
       "      <th>age</th>\n",
       "      <th>city</th>\n",
       "    </tr>\n",
       "  </thead>\n",
       "  <tbody>\n",
       "    <tr>\n",
       "      <th>0</th>\n",
       "      <td>0</td>\n",
       "      <td>name1</td>\n",
       "      <td>47</td>\n",
       "      <td>Bangalore</td>\n",
       "    </tr>\n",
       "    <tr>\n",
       "      <th>1</th>\n",
       "      <td>1</td>\n",
       "      <td>name2</td>\n",
       "      <td>26</td>\n",
       "      <td>Bangalore</td>\n",
       "    </tr>\n",
       "    <tr>\n",
       "      <th>2</th>\n",
       "      <td>2</td>\n",
       "      <td>name3</td>\n",
       "      <td>28</td>\n",
       "      <td>Chennai</td>\n",
       "    </tr>\n",
       "    <tr>\n",
       "      <th>3</th>\n",
       "      <td>3</td>\n",
       "      <td>name4</td>\n",
       "      <td>31</td>\n",
       "      <td>New delhi</td>\n",
       "    </tr>\n",
       "    <tr>\n",
       "      <th>4</th>\n",
       "      <td>4</td>\n",
       "      <td>name5</td>\n",
       "      <td>28</td>\n",
       "      <td>Mumbai</td>\n",
       "    </tr>\n",
       "    <tr>\n",
       "      <th>...</th>\n",
       "      <td>...</td>\n",
       "      <td>...</td>\n",
       "      <td>...</td>\n",
       "      <td>...</td>\n",
       "    </tr>\n",
       "    <tr>\n",
       "      <th>9995</th>\n",
       "      <td>9995</td>\n",
       "      <td>name9996</td>\n",
       "      <td>33</td>\n",
       "      <td>Hyderabad</td>\n",
       "    </tr>\n",
       "    <tr>\n",
       "      <th>9996</th>\n",
       "      <td>9996</td>\n",
       "      <td>name9997</td>\n",
       "      <td>18</td>\n",
       "      <td>Mumbai</td>\n",
       "    </tr>\n",
       "    <tr>\n",
       "      <th>9997</th>\n",
       "      <td>9997</td>\n",
       "      <td>name9998</td>\n",
       "      <td>38</td>\n",
       "      <td>Chennai</td>\n",
       "    </tr>\n",
       "    <tr>\n",
       "      <th>9998</th>\n",
       "      <td>9998</td>\n",
       "      <td>name9999</td>\n",
       "      <td>31</td>\n",
       "      <td>Mumbai</td>\n",
       "    </tr>\n",
       "    <tr>\n",
       "      <th>9999</th>\n",
       "      <td>9999</td>\n",
       "      <td>name10000</td>\n",
       "      <td>18</td>\n",
       "      <td>Chennai</td>\n",
       "    </tr>\n",
       "  </tbody>\n",
       "</table>\n",
       "<p>10000 rows × 4 columns</p>\n",
       "</div>"
      ],
      "text/plain": [
       "        id       name  age       city\n",
       "0        0      name1   47  Bangalore\n",
       "1        1      name2   26  Bangalore\n",
       "2        2      name3   28    Chennai\n",
       "3        3      name4   31  New delhi\n",
       "4        4      name5   28     Mumbai\n",
       "...    ...        ...  ...        ...\n",
       "9995  9995   name9996   33  Hyderabad\n",
       "9996  9996   name9997   18     Mumbai\n",
       "9997  9997   name9998   38    Chennai\n",
       "9998  9998   name9999   31     Mumbai\n",
       "9999  9999  name10000   18    Chennai\n",
       "\n",
       "[10000 rows x 4 columns]"
      ]
     },
     "execution_count": 85,
     "metadata": {},
     "output_type": "execute_result"
    }
   ],
   "source": [
    "df=pd.DataFrame(data)\n",
    "df"
   ]
  },
  {
   "cell_type": "code",
   "execution_count": 87,
   "id": "ffeff8ef-4f3c-4ab2-a7d8-603c483245e5",
   "metadata": {},
   "outputs": [],
   "source": [
    "df.to_csv(\"Data_p.csv\")"
   ]
  },
  {
   "cell_type": "code",
   "execution_count": 95,
   "id": "c56a041c-d3d3-4eb7-81c5-66d102f36806",
   "metadata": {},
   "outputs": [
    {
     "name": "stdout",
     "output_type": "stream",
     "text": [
      "0.3019428253173828\n"
     ]
    }
   ],
   "source": [
    "import os\n",
    "csv_size=os.path.getsize(\"Data_p.csv\")/(1024**2)\n",
    "print(csv_size)"
   ]
  },
  {
   "cell_type": "code",
   "execution_count": 71,
   "id": "c4065c7a-6bca-43bc-b100-be8c1da7a6ac",
   "metadata": {},
   "outputs": [
    {
     "data": {
      "text/plain": [
       "np.float64(1.200937271118164)"
      ]
     },
     "execution_count": 71,
     "metadata": {},
     "output_type": "execute_result"
    }
   ],
   "source": [
    "# Memory Management: we need to measure data by its physical location i.e file size\n",
    "\n",
    "# (df.memory_usage(deep=True).sum())/(1024*1024)"
   ]
  },
  {
   "cell_type": "code",
   "execution_count": 75,
   "id": "94d8d331-4670-4a87-8b19-54fd1697a928",
   "metadata": {},
   "outputs": [],
   "source": [
    "# Converting into Parquet format\n",
    "\n",
    "df.to_parquet(\"Parquet_file\",engine=\"pyarrow\")      # 2 Engines: pyarrow and fastparquet"
   ]
  },
  {
   "cell_type": "code",
   "execution_count": 79,
   "id": "5ce67437-f569-4e72-ab05-b4d85c24d307",
   "metadata": {},
   "outputs": [
    {
     "data": {
      "text/html": [
       "<div>\n",
       "<style scoped>\n",
       "    .dataframe tbody tr th:only-of-type {\n",
       "        vertical-align: middle;\n",
       "    }\n",
       "\n",
       "    .dataframe tbody tr th {\n",
       "        vertical-align: top;\n",
       "    }\n",
       "\n",
       "    .dataframe thead th {\n",
       "        text-align: right;\n",
       "    }\n",
       "</style>\n",
       "<table border=\"1\" class=\"dataframe\">\n",
       "  <thead>\n",
       "    <tr style=\"text-align: right;\">\n",
       "      <th></th>\n",
       "      <th>id</th>\n",
       "      <th>name</th>\n",
       "      <th>age</th>\n",
       "      <th>city</th>\n",
       "    </tr>\n",
       "  </thead>\n",
       "  <tbody>\n",
       "    <tr>\n",
       "      <th>0</th>\n",
       "      <td>0</td>\n",
       "      <td>name1</td>\n",
       "      <td>10</td>\n",
       "      <td>Bangalore</td>\n",
       "    </tr>\n",
       "    <tr>\n",
       "      <th>1</th>\n",
       "      <td>1</td>\n",
       "      <td>name2</td>\n",
       "      <td>41</td>\n",
       "      <td>New delhi</td>\n",
       "    </tr>\n",
       "    <tr>\n",
       "      <th>2</th>\n",
       "      <td>2</td>\n",
       "      <td>name3</td>\n",
       "      <td>19</td>\n",
       "      <td>Chennai</td>\n",
       "    </tr>\n",
       "    <tr>\n",
       "      <th>3</th>\n",
       "      <td>3</td>\n",
       "      <td>name4</td>\n",
       "      <td>42</td>\n",
       "      <td>Chennai</td>\n",
       "    </tr>\n",
       "    <tr>\n",
       "      <th>4</th>\n",
       "      <td>4</td>\n",
       "      <td>name5</td>\n",
       "      <td>10</td>\n",
       "      <td>Chennai</td>\n",
       "    </tr>\n",
       "    <tr>\n",
       "      <th>...</th>\n",
       "      <td>...</td>\n",
       "      <td>...</td>\n",
       "      <td>...</td>\n",
       "      <td>...</td>\n",
       "    </tr>\n",
       "    <tr>\n",
       "      <th>9995</th>\n",
       "      <td>9995</td>\n",
       "      <td>name9996</td>\n",
       "      <td>37</td>\n",
       "      <td>Bangalore</td>\n",
       "    </tr>\n",
       "    <tr>\n",
       "      <th>9996</th>\n",
       "      <td>9996</td>\n",
       "      <td>name9997</td>\n",
       "      <td>28</td>\n",
       "      <td>Mumbai</td>\n",
       "    </tr>\n",
       "    <tr>\n",
       "      <th>9997</th>\n",
       "      <td>9997</td>\n",
       "      <td>name9998</td>\n",
       "      <td>24</td>\n",
       "      <td>Hyderabad</td>\n",
       "    </tr>\n",
       "    <tr>\n",
       "      <th>9998</th>\n",
       "      <td>9998</td>\n",
       "      <td>name9999</td>\n",
       "      <td>26</td>\n",
       "      <td>Bangalore</td>\n",
       "    </tr>\n",
       "    <tr>\n",
       "      <th>9999</th>\n",
       "      <td>9999</td>\n",
       "      <td>name10000</td>\n",
       "      <td>37</td>\n",
       "      <td>New delhi</td>\n",
       "    </tr>\n",
       "  </tbody>\n",
       "</table>\n",
       "<p>10000 rows × 4 columns</p>\n",
       "</div>"
      ],
      "text/plain": [
       "        id       name  age       city\n",
       "0        0      name1   10  Bangalore\n",
       "1        1      name2   41  New delhi\n",
       "2        2      name3   19    Chennai\n",
       "3        3      name4   42    Chennai\n",
       "4        4      name5   10    Chennai\n",
       "...    ...        ...  ...        ...\n",
       "9995  9995   name9996   37  Bangalore\n",
       "9996  9996   name9997   28     Mumbai\n",
       "9997  9997   name9998   24  Hyderabad\n",
       "9998  9998   name9999   26  Bangalore\n",
       "9999  9999  name10000   37  New delhi\n",
       "\n",
       "[10000 rows x 4 columns]"
      ]
     },
     "execution_count": 79,
     "metadata": {},
     "output_type": "execute_result"
    }
   ],
   "source": [
    "df_parquet=pd.read_parquet(\"Parquet_file\")\n",
    "df_parquet"
   ]
  },
  {
   "cell_type": "code",
   "execution_count": 97,
   "id": "396e2bb1-558e-4fac-a776-5b38c1809ee5",
   "metadata": {},
   "outputs": [
    {
     "name": "stdout",
     "output_type": "stream",
     "text": [
      "0.12803173065185547\n"
     ]
    }
   ],
   "source": [
    "import os\n",
    "parquet_size=os.path.getsize(\"Parquet_file\")/(1024**2)\n",
    "print(parquet_size)"
   ]
  },
  {
   "cell_type": "markdown",
   "id": "936ee707-08d1-46db-9e81-bbd2122dbd1d",
   "metadata": {},
   "source": [
    "# Avro"
   ]
  },
  {
   "cell_type": "code",
   "execution_count": null,
   "id": "a7787c98-47e6-45f9-90cc-859a6c536481",
   "metadata": {},
   "outputs": [],
   "source": [
    "# Use case: real-time streaming data: Kafka\n",
    "# it store schema\n",
    "# records all the data in brinary format\n",
    "# A sequence of records (row by row) \n",
    "# compression alg: binary"
   ]
  },
  {
   "cell_type": "code",
   "execution_count": 112,
   "id": "165c29a2-2d8f-4b10-874d-5b03cb724b7e",
   "metadata": {},
   "outputs": [
    {
     "name": "stdout",
     "output_type": "stream",
     "text": [
      "Collecting fastavroNote: you may need to restart the kernel to use updated packages.\n",
      "\n",
      "  Downloading fastavro-1.12.0-cp312-cp312-win_amd64.whl.metadata (5.9 kB)\n",
      "Downloading fastavro-1.12.0-cp312-cp312-win_amd64.whl (445 kB)\n",
      "Installing collected packages: fastavro\n",
      "Successfully installed fastavro-1.12.0\n"
     ]
    }
   ],
   "source": [
    "pip install fastavro"
   ]
  },
  {
   "cell_type": "code",
   "execution_count": 114,
   "id": "e1695b04-1ded-4f3d-8b79-5003e03d5c2a",
   "metadata": {},
   "outputs": [],
   "source": [
    "from fastavro import writer,reader,parse_schema"
   ]
  },
  {
   "cell_type": "code",
   "execution_count": 119,
   "id": "50196883-fbee-4ce1-8cae-f04598de9177",
   "metadata": {},
   "outputs": [],
   "source": [
    "# Schema: Columns and its datatype\n",
    "\n",
    "schema = {                                            \n",
    "\"type\": \"record\",\n",
    "\"name\": \"Student\",\n",
    "\"fields\": [\n",
    "{\"name\": \"id\", \"type\": \"int\"},\n",
    "{\"name\": \"name\", \"type\": \"string\"},\n",
    "{\"name\": \"class\", \"type\": \"string\"},\n",
    "{\"name\": \"marks\", \"type\": \"int\"}\n",
    "    ]\n",
    "}"
   ]
  },
  {
   "cell_type": "code",
   "execution_count": 123,
   "id": "c03bdc12-aae1-4250-894f-8d26b69ec7e5",
   "metadata": {},
   "outputs": [
    {
     "data": {
      "text/plain": [
       "{'type': 'record',\n",
       " 'name': 'Student',\n",
       " 'fields': [{'name': 'id', 'type': 'int'},\n",
       "  {'name': 'name', 'type': 'string'},\n",
       "  {'name': 'class', 'type': 'string'},\n",
       "  {'name': 'marks', 'type': 'int'}],\n",
       " '__fastavro_parsed': True,\n",
       " '__named_schemas': {'Student': {'type': 'record',\n",
       "   'name': 'Student',\n",
       "   'fields': [{'name': 'id', 'type': 'int'},\n",
       "    {'name': 'name', 'type': 'string'},\n",
       "    {'name': 'class', 'type': 'string'},\n",
       "    {'name': 'marks', 'type': 'int'}]}}}"
      ]
     },
     "execution_count": 123,
     "metadata": {},
     "output_type": "execute_result"
    }
   ],
   "source": [
    "parsed_schema=parse_schema(schema)\n",
    "parsed_schema"
   ]
  },
  {
   "cell_type": "code",
   "execution_count": 141,
   "id": "e1fd5c35-fd7d-4622-a5f0-a7d3e56afc85",
   "metadata": {},
   "outputs": [
    {
     "name": "stdout",
     "output_type": "stream",
     "text": [
      "BEFORE (Raw Python Objects):\n",
      "{'id': 1, 'name': 'Alice', 'class': '10A', 'marks': 88}\n",
      "{'id': 2, 'name': 'Bob', 'class': '10B', 'marks': 75}\n",
      "{'id': 3, 'name': 'Carol', 'class': '10A', 'marks': 92}\n",
      "{'id': 4, 'name': 'Dave', 'class': '10C', 'marks': 67}\n",
      "{'id': 5, 'name': 'Eve', 'class': '10B', 'marks': 80}\n"
     ]
    }
   ],
   "source": [
    "students = [\n",
    "{\"id\": 1, \"name\": \"Alice\", \"class\": \"10A\", \"marks\": 88},\n",
    "{\"id\": 2, \"name\": \"Bob\", \"class\": \"10B\", \"marks\": 75},\n",
    "{\"id\": 3, \"name\": \"Carol\", \"class\": \"10A\", \"marks\": 92},\n",
    "{\"id\": 4, \"name\": \"Dave\", \"class\": \"10C\", \"marks\": 67},\n",
    "{\"id\": 5, \"name\": \"Eve\", \"class\": \"10B\", \"marks\": 80}]\n",
    "\n",
    "\n",
    "print(\"BEFORE (Raw Python Objects):\")\n",
    "for s in students:\n",
    "    print(s)\n",
    "\n",
    "# Step 3: Write data to Avro file\n",
    "file_path = \"students.avro\"\n",
    "with open(file_path, \"wb\") as out:    # wb: writebinary\n",
    "    writer(out, parsed_schema, students)"
   ]
  },
  {
   "cell_type": "code",
   "execution_count": 173,
   "id": "5adb2d2d-0188-4bdf-b326-db52bf7f839c",
   "metadata": {},
   "outputs": [
    {
     "name": "stdout",
     "output_type": "stream",
     "text": [
      "Data written to students.avro (binary Avro format). 317 Bytes\n",
      "AFTER (Read Back from Avro):\n",
      "{'id': 1, 'name': 'Alice', 'class': '10A', 'marks': 88}\n",
      "{'id': 2, 'name': 'Bob', 'class': '10B', 'marks': 75}\n",
      "{'id': 3, 'name': 'Carol', 'class': '10A', 'marks': 92}\n",
      "{'id': 4, 'name': 'Dave', 'class': '10C', 'marks': 67}\n",
      "{'id': 5, 'name': 'Eve', 'class': '10B', 'marks': 80}\n"
     ]
    }
   ],
   "source": [
    "import os\n",
    "Filesize= os.path.getsize(file_path)\n",
    "Filesize\n",
    "print(f\"Data written to {file_path} (binary Avro format). {Filesize} Bytes\")\n",
    "\n",
    "# Stap 4: Read back from Aro file\n",
    "print(\"AFTER (Read Back from Avro):\")\n",
    "with open(file_path, \"rb\") as fo:          # rb: read binary\n",
    "    for record in reader(fo):\n",
    "        print(record)\n"
   ]
  },
  {
   "cell_type": "markdown",
   "id": "b7e625ae-210b-46d7-9409-3b26ba32e668",
   "metadata": {},
   "source": [
    "# Orc (optimzed row columnar)"
   ]
  },
  {
   "cell_type": "code",
   "execution_count": null,
   "id": "d2cc532f-ef56-464c-9019-12b4bd5368a2",
   "metadata": {},
   "outputs": [],
   "source": [
    "# orc\n",
    "# hortonworks for hadoop & hive\n",
    "\n",
    "# columnar storage+optimized\n",
    "# only reads by column\n",
    "# uses lightweight compression zlib\n",
    "# indexs : stores row level min, max , counts\n",
    "# it supports ACID transactions\n",
    "# large orc file can be split into stripes for parallelism"
   ]
  },
  {
   "cell_type": "markdown",
   "id": "c0b09e24-de1d-4de4-967b-59464195e081",
   "metadata": {},
   "source": [
    "# APIs"
   ]
  },
  {
   "cell_type": "code",
   "execution_count": null,
   "id": "d4be814b-ffd4-4e77-a57a-0fb6314ebe9a",
   "metadata": {},
   "outputs": [],
   "source": [
    "# ADF: web acitivity"
   ]
  },
  {
   "cell_type": "code",
   "execution_count": 182,
   "id": "8c73ed25-ee2f-43a9-9c83-2e6d30850442",
   "metadata": {},
   "outputs": [
    {
     "name": "stdin",
     "output_type": "stream",
     "text": [
      " bangalore\n"
     ]
    },
    {
     "data": {
      "text/plain": [
       "{'cod': 401,\n",
       " 'message': 'Please note that using One Call 3.0 requires a separate subscription to the One Call by Call plan. Learn more here https://openweathermap.org/price. If you have a valid subscription to the One Call by Call plan, but still receive this error, then please see https://openweathermap.org/faq#error401 for more info.'}"
      ]
     },
     "execution_count": 182,
     "metadata": {},
     "output_type": "execute_result"
    }
   ],
   "source": [
    "import requests\n",
    "\n",
    "api_address='https://api.openweathermap.org/data/3.0/onecall?lat={lat}&lon={lon}&exclude={part}&appid={220aa2be0c8c019b3b1f152e78ccb7d5}'\n",
    "city_input=input()\n",
    "url=api_address+city_input\n",
    "requests.get(url) .json()"
   ]
  },
  {
   "cell_type": "code",
   "execution_count": null,
   "id": "6473705a-f874-44af-916f-95cb865d2028",
   "metadata": {},
   "outputs": [],
   "source": []
  },
  {
   "cell_type": "code",
   "execution_count": null,
   "id": "c1920755-8db4-4921-9c71-f8e3a5fa977b",
   "metadata": {},
   "outputs": [],
   "source": []
  },
  {
   "cell_type": "code",
   "execution_count": null,
   "id": "9f63b1ef-cc9c-498c-93e4-aaaaaf0a6a13",
   "metadata": {},
   "outputs": [],
   "source": []
  }
 ],
 "metadata": {
  "kernelspec": {
   "display_name": "Python 3 (ipykernel)",
   "language": "python",
   "name": "python3"
  },
  "language_info": {
   "codemirror_mode": {
    "name": "ipython",
    "version": 3
   },
   "file_extension": ".py",
   "mimetype": "text/x-python",
   "name": "python",
   "nbconvert_exporter": "python",
   "pygments_lexer": "ipython3",
   "version": "3.12.4"
  }
 },
 "nbformat": 4,
 "nbformat_minor": 5
}
